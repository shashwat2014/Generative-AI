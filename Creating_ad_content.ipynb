{
 "cells": [
  {
   "cell_type": "code",
   "execution_count": 1,
   "id": "aad81caf-c3c9-4c55-bf2b-78b3766d5d50",
   "metadata": {
    "tags": []
   },
   "outputs": [],
   "source": [
    "## Please chage the question id as per the case study\n",
    "eventid='20240717'\n",
    "questionid='4d41de1a-1e7d-4a71-952d-b9cd882ea15f' # id for Eco"
   ]
  },
  {
   "cell_type": "code",
   "execution_count": 2,
   "id": "07bc9464-8fcf-49b7-b15b-d29eeb018257",
   "metadata": {},
   "outputs": [],
   "source": [
    "## Update this cell with correct names \n",
    "## All these files should in the same directory where this submission is present\n",
    "## The directory can have other files present\n",
    "notebook=\"Scoring_Final.ipynb\"\n",
    "imported_objects =['PTSerif-Bold.ttf'\n",
    "]\n",
    "output_function=\"my_func\" # name of the function to call with 2 parameters"
   ]
  },
  {
   "cell_type": "code",
   "execution_count": 3,
   "id": "ad0194f0-a545-4cf4-bca1-fdfe588cc5ec",
   "metadata": {},
   "outputs": [
    {
     "name": "stdout",
     "output_type": "stream",
     "text": [
      "Thank You for submitting Final Evaluation Question. Please note that if multiple submissions are made on this quesionid only last one would be considered\n"
     ]
    },
    {
     "name": "stderr",
     "output_type": "stream",
     "text": [
      "  0%|          | 0/4 [00:00<?, ?it/s]"
     ]
    },
    {
     "name": "stdout",
     "output_type": "stream",
     "text": [
      "Initializing..\n"
     ]
    },
    {
     "name": "stderr",
     "output_type": "stream",
     "text": [
      " 25%|██▌       | 1/4 [00:01<00:03,  1.00s/it]"
     ]
    },
    {
     "name": "stdout",
     "output_type": "stream",
     "text": [
      "Creating temporary directory: ngnirvxq\n"
     ]
    },
    {
     "name": "stderr",
     "output_type": "stream",
     "text": [
      " 50%|█████     | 2/4 [00:02<00:02,  1.01s/it]"
     ]
    },
    {
     "name": "stdout",
     "output_type": "stream",
     "text": [
      "Testing Scoring notebook locally on test scenario\n",
      "Error Encountered:  [NbClientApp] Executing z_Scoring_Final.ipynb\n",
      "0.00s - Debugger warning: It seems that frozen modules are being used, which may\n",
      "0.00s - make the debugger miss breakpoints. Please pass -Xfrozen_modules=off\n",
      "0.00s - to python to disable frozen modules.\n",
      "0.00s - Note: Debugging will proceed. Set PYDEVD_DISABLE_FILE_VALIDATION=1 to disable this validation.\n",
      "0.00s - Debugger warning: It seems that frozen modules are being used, which may\n",
      "0.00s - make the debugger miss breakpoints. Please pass -Xfrozen_modules=off\n",
      "0.00s - to python to disable frozen modules.\n",
      "0.00s - Note: Debugging will proceed. Set PYDEVD_DISABLE_FILE_VALIDATION=1 to disable this validation.\n",
      "[NbClientApp] Executing notebook with kernel: python3\n",
      "Traceback (most recent call last):\n",
      "  File \"/opt/conda/bin/jupyter-execute\", line 10, in <module>\n",
      "    sys.exit(main())\n",
      "             ^^^^^^\n",
      "  File \"/opt/conda/lib/python3.11/site-packages/jupyter_core/application.py\", line 280, in launch_instance\n",
      "    super().launch_instance(argv=argv, **kwargs)\n",
      "  File \"/opt/conda/lib/python3.11/site-packages/traitlets/config/application.py\", line 1052, in launch_instance\n",
      "    app.initialize(argv)\n",
      "  File \"/opt/conda/lib/python3.11/site-packages/traitlets/config/application.py\", line 117, in inner\n",
      "    return method(app, *args, **kwargs)\n",
      "           ^^^^^^^^^^^^^^^^^^^^^^^^^^^^\n",
      "  File \"/opt/conda/lib/python3.11/site-packages/nbclient/cli.py\", line 114, in initialize\n",
      "    [self.run_notebook(path) for path in self.notebooks]\n",
      "  File \"/opt/conda/lib/python3.11/site-packages/nbclient/cli.py\", line 114, in <listcomp>\n",
      "    [self.run_notebook(path) for path in self.notebooks]\n",
      "     ^^^^^^^^^^^^^^^^^^^^^^^\n",
      "  File \"/opt/conda/lib/python3.11/site-packages/nbclient/cli.py\", line 157, in run_notebook\n",
      "    client.execute()\n",
      "  File \"/opt/conda/lib/python3.11/site-packages/jupyter_core/utils/__init__.py\", line 173, in wrapped\n",
      "    return loop.run_until_complete(inner)\n",
      "           ^^^^^^^^^^^^^^^^^^^^^^^^^^^^^^\n",
      "  File \"/opt/conda/lib/python3.11/asyncio/base_events.py\", line 653, in run_until_complete\n",
      "    return future.result()\n",
      "           ^^^^^^^^^^^^^^^\n",
      "  File \"/opt/conda/lib/python3.11/site-packages/nbclient/client.py\", line 705, in async_execute\n",
      "    await self.async_execute_cell(\n",
      "  File \"/opt/conda/lib/python3.11/site-packages/nbclient/client.py\", line 1058, in async_execute_cell\n",
      "    await self._check_raise_for_error(cell, cell_index, exec_reply)\n",
      "  File \"/opt/conda/lib/python3.11/site-packages/nbclient/client.py\", line 914, in _check_raise_for_error\n",
      "    raise CellExecutionError.from_cell_and_msg(cell, exec_reply_content)\n",
      "nbclient.exceptions.CellExecutionError: An error occurred while executing the following cell:\n",
      "------------------\n",
      "my_func(name=\"\"\"FitLife\"\"\", background=\"\"\"Founded in 2001\"\"\", objective=\"\"\"GYM\"\"\", brand_guidelines=\"\"\"Free flowing\"\"\", factsheet=\"\"\"Best in class\"\"\",logo=\"\"\"logo.png\"\"\")\n",
      "------------------\n",
      "\n",
      "\n",
      "\u001b[0;31m---------------------------------------------------------------------------\u001b[0m\n",
      "\u001b[0;31mValueError\u001b[0m                                Traceback (most recent call last)\n",
      "Cell \u001b[0;32mIn[5], line 1\u001b[0m\n",
      "\u001b[0;32m----> 1\u001b[0m \u001b[43mmy_func\u001b[49m\u001b[43m(\u001b[49m\u001b[43mname\u001b[49m\u001b[38;5;241;43m=\u001b[39;49m\u001b[38;5;124;43m\"\"\"\u001b[39;49m\u001b[38;5;124;43mFitLife\u001b[39;49m\u001b[38;5;124;43m\"\"\"\u001b[39;49m\u001b[43m,\u001b[49m\u001b[43m \u001b[49m\u001b[43mbackground\u001b[49m\u001b[38;5;241;43m=\u001b[39;49m\u001b[38;5;124;43m\"\"\"\u001b[39;49m\u001b[38;5;124;43mFounded in 2001\u001b[39;49m\u001b[38;5;124;43m\"\"\"\u001b[39;49m\u001b[43m,\u001b[49m\u001b[43m \u001b[49m\u001b[43mobjective\u001b[49m\u001b[38;5;241;43m=\u001b[39;49m\u001b[38;5;124;43m\"\"\"\u001b[39;49m\u001b[38;5;124;43mGYM\u001b[39;49m\u001b[38;5;124;43m\"\"\"\u001b[39;49m\u001b[43m,\u001b[49m\u001b[43m \u001b[49m\u001b[43mbrand_guidelines\u001b[49m\u001b[38;5;241;43m=\u001b[39;49m\u001b[38;5;124;43m\"\"\"\u001b[39;49m\u001b[38;5;124;43mFree flowing\u001b[39;49m\u001b[38;5;124;43m\"\"\"\u001b[39;49m\u001b[43m,\u001b[49m\u001b[43m \u001b[49m\u001b[43mfactsheet\u001b[49m\u001b[38;5;241;43m=\u001b[39;49m\u001b[38;5;124;43m\"\"\"\u001b[39;49m\u001b[38;5;124;43mBest in class\u001b[39;49m\u001b[38;5;124;43m\"\"\"\u001b[39;49m\u001b[43m,\u001b[49m\u001b[43mlogo\u001b[49m\u001b[38;5;241;43m=\u001b[39;49m\u001b[38;5;124;43m\"\"\"\u001b[39;49m\u001b[38;5;124;43mlogo.png\u001b[39;49m\u001b[38;5;124;43m\"\"\"\u001b[39;49m\u001b[43m)\u001b[49m\n",
      "\n",
      "Cell \u001b[0;32mIn[4], line 100\u001b[0m, in \u001b[0;36mmy_func\u001b[0;34m(name, background, objective, brand_guidelines, factsheet, logo)\u001b[0m\n",
      "\u001b[1;32m     96\u001b[0m \u001b[38;5;66;03m# This is just a placeholder to create empty file\u001b[39;00m\n",
      "\u001b[1;32m     97\u001b[0m \u001b[38;5;66;03m# This needs to be replaced with working code to generate png\u001b[39;00m\n",
      "\u001b[1;32m     98\u001b[0m a\u001b[38;5;241m=\u001b[39msubprocess\u001b[38;5;241m.\u001b[39mcall(\u001b[38;5;124m\"\u001b[39m\u001b[38;5;124mtouch output.png\u001b[39m\u001b[38;5;124m\"\u001b[39m,shell\u001b[38;5;241m=\u001b[39m\u001b[38;5;28;01mTrue\u001b[39;00m)\n",
      "\u001b[0;32m--> 100\u001b[0m final_image \u001b[38;5;241m=\u001b[39m \u001b[43mgenerate_image\u001b[49m\u001b[43m(\u001b[49m\u001b[43mname\u001b[49m\u001b[43m,\u001b[49m\u001b[43m \u001b[49m\u001b[43mbackground\u001b[49m\u001b[43m,\u001b[49m\u001b[43m \u001b[49m\u001b[43mobjective\u001b[49m\u001b[43m,\u001b[49m\u001b[43m \u001b[49m\u001b[43mbrand_guidelines\u001b[49m\u001b[43m,\u001b[49m\u001b[43m \u001b[49m\u001b[43mfactsheet\u001b[49m\u001b[43m,\u001b[49m\u001b[43m \u001b[49m\u001b[43mlogo\u001b[49m\u001b[43m)\u001b[49m\n",
      "\u001b[1;32m    101\u001b[0m final_image\u001b[38;5;241m.\u001b[39msave(\u001b[38;5;124m'\u001b[39m\u001b[38;5;124moutput.png\u001b[39m\u001b[38;5;124m'\u001b[39m)\n",
      "\n",
      "Cell \u001b[0;32mIn[3], line 64\u001b[0m, in \u001b[0;36mgenerate_image\u001b[0;34m(name, background, objective, brand_guidelines, factsheet, logo)\u001b[0m\n",
      "\u001b[1;32m     54\u001b[0m tagline \u001b[38;5;241m=\u001b[39m client\u001b[38;5;241m.\u001b[39mchat\u001b[38;5;241m.\u001b[39mcompletions\u001b[38;5;241m.\u001b[39mcreate(\n",
      "\u001b[1;32m     55\u001b[0m       model\u001b[38;5;241m=\u001b[39m\u001b[38;5;124m\"\u001b[39m\u001b[38;5;124mgpt-4o\u001b[39m\u001b[38;5;124m\"\u001b[39m,\n",
      "\u001b[1;32m     56\u001b[0m       messages\u001b[38;5;241m=\u001b[39m[\n",
      "\u001b[0;32m   (...)\u001b[0m\n",
      "\u001b[1;32m     60\u001b[0m       ]\n",
      "\u001b[1;32m     61\u001b[0m     )\n",
      "\u001b[1;32m     63\u001b[0m hex_code \u001b[38;5;241m=\u001b[39m Primary_color\u001b[38;5;241m.\u001b[39mchoices[\u001b[38;5;241m0\u001b[39m]\u001b[38;5;241m.\u001b[39mmessage\u001b[38;5;241m.\u001b[39mcontent\u001b[38;5;241m.\u001b[39mlstrip(\u001b[38;5;124m'\u001b[39m\u001b[38;5;124m#\u001b[39m\u001b[38;5;124m'\u001b[39m)\n",
      "\u001b[0;32m---> 64\u001b[0m rgb \u001b[38;5;241m=\u001b[39m \u001b[38;5;28;43mtuple\u001b[39;49m\u001b[43m(\u001b[49m\u001b[38;5;28;43mint\u001b[39;49m\u001b[43m(\u001b[49m\u001b[43mhex_code\u001b[49m\u001b[43m[\u001b[49m\u001b[43mi\u001b[49m\u001b[43m:\u001b[49m\u001b[43mi\u001b[49m\u001b[38;5;241;43m+\u001b[39;49m\u001b[38;5;241;43m2\u001b[39;49m\u001b[43m]\u001b[49m\u001b[43m,\u001b[49m\u001b[43m \u001b[49m\u001b[38;5;241;43m16\u001b[39;49m\u001b[43m)\u001b[49m\u001b[43m \u001b[49m\u001b[38;5;28;43;01mfor\u001b[39;49;00m\u001b[43m \u001b[49m\u001b[43mi\u001b[49m\u001b[43m \u001b[49m\u001b[38;5;129;43;01min\u001b[39;49;00m\u001b[43m \u001b[49m\u001b[43m(\u001b[49m\u001b[38;5;241;43m0\u001b[39;49m\u001b[43m,\u001b[49m\u001b[43m \u001b[49m\u001b[38;5;241;43m2\u001b[39;49m\u001b[43m,\u001b[49m\u001b[43m \u001b[49m\u001b[38;5;241;43m4\u001b[39;49m\u001b[43m)\u001b[49m\u001b[43m)\u001b[49m\n",
      "\u001b[1;32m     65\u001b[0m width \u001b[38;5;241m=\u001b[39m \u001b[38;5;241m1024\u001b[39m\n",
      "\u001b[1;32m     66\u001b[0m height \u001b[38;5;241m=\u001b[39m \u001b[38;5;241m1024\u001b[39m\n",
      "\n",
      "Cell \u001b[0;32mIn[3], line 64\u001b[0m, in \u001b[0;36m<genexpr>\u001b[0;34m(.0)\u001b[0m\n",
      "\u001b[1;32m     54\u001b[0m tagline \u001b[38;5;241m=\u001b[39m client\u001b[38;5;241m.\u001b[39mchat\u001b[38;5;241m.\u001b[39mcompletions\u001b[38;5;241m.\u001b[39mcreate(\n",
      "\u001b[1;32m     55\u001b[0m       model\u001b[38;5;241m=\u001b[39m\u001b[38;5;124m\"\u001b[39m\u001b[38;5;124mgpt-4o\u001b[39m\u001b[38;5;124m\"\u001b[39m,\n",
      "\u001b[1;32m     56\u001b[0m       messages\u001b[38;5;241m=\u001b[39m[\n",
      "\u001b[0;32m   (...)\u001b[0m\n",
      "\u001b[1;32m     60\u001b[0m       ]\n",
      "\u001b[1;32m     61\u001b[0m     )\n",
      "\u001b[1;32m     63\u001b[0m hex_code \u001b[38;5;241m=\u001b[39m Primary_color\u001b[38;5;241m.\u001b[39mchoices[\u001b[38;5;241m0\u001b[39m]\u001b[38;5;241m.\u001b[39mmessage\u001b[38;5;241m.\u001b[39mcontent\u001b[38;5;241m.\u001b[39mlstrip(\u001b[38;5;124m'\u001b[39m\u001b[38;5;124m#\u001b[39m\u001b[38;5;124m'\u001b[39m)\n",
      "\u001b[0;32m---> 64\u001b[0m rgb \u001b[38;5;241m=\u001b[39m \u001b[38;5;28mtuple\u001b[39m(\u001b[38;5;28;43mint\u001b[39;49m\u001b[43m(\u001b[49m\u001b[43mhex_code\u001b[49m\u001b[43m[\u001b[49m\u001b[43mi\u001b[49m\u001b[43m:\u001b[49m\u001b[43mi\u001b[49m\u001b[38;5;241;43m+\u001b[39;49m\u001b[38;5;241;43m2\u001b[39;49m\u001b[43m]\u001b[49m\u001b[43m,\u001b[49m\u001b[43m \u001b[49m\u001b[38;5;241;43m16\u001b[39;49m\u001b[43m)\u001b[49m \u001b[38;5;28;01mfor\u001b[39;00m i \u001b[38;5;129;01min\u001b[39;00m (\u001b[38;5;241m0\u001b[39m, \u001b[38;5;241m2\u001b[39m, \u001b[38;5;241m4\u001b[39m))\n",
      "\u001b[1;32m     65\u001b[0m width \u001b[38;5;241m=\u001b[39m \u001b[38;5;241m1024\u001b[39m\n",
      "\u001b[1;32m     66\u001b[0m height \u001b[38;5;241m=\u001b[39m \u001b[38;5;241m1024\u001b[39m\n",
      "\n",
      "\u001b[0;31mValueError\u001b[0m: invalid literal for int() with base 16: \"I'\"\n",
      "\n",
      "\n"
     ]
    },
    {
     "name": "stderr",
     "output_type": "stream",
     "text": [
      " 75%|███████▌  | 3/4 [00:44<00:19, 19.84s/it]"
     ]
    },
    {
     "name": "stdout",
     "output_type": "stream",
     "text": [
      "Scoring notebook has passed initial tests. Submitting for full evaluation.\n"
     ]
    },
    {
     "name": "stderr",
     "output_type": "stream",
     "text": [
      "100%|██████████| 4/4 [00:57<00:00, 14.35s/it]"
     ]
    },
    {
     "name": "stdout",
     "output_type": "stream",
     "text": [
      "Scoring and Submission Completed.\n",
      "Results will be available in few minutes inside your team name folder in folder https://drive.google.com/drive/folders/1Cozy5EVnX8X-VWIY2TIND90X6Umge5u_ with reference id: ngnirvxq\n"
     ]
    },
    {
     "name": "stderr",
     "output_type": "stream",
     "text": [
      "\n"
     ]
    }
   ],
   "source": [
    "## Run this cell to submit your Scoring Notebook\n",
    "\n",
    "import genai\n",
    "genai.submit_notebook(eventid=eventid, questionid=questionid, notebook=notebook, imported_objects=imported_objects, output_function=output_function)\n"
   ]
  },
  {
   "cell_type": "code",
   "execution_count": 4,
   "id": "1515354c-c48f-40eb-893f-2a08568ce434",
   "metadata": {},
   "outputs": [],
   "source": [
    "## If you get the final message \"Scoring and Submission Completed.\" then the notebook has been sent for scoring on actual data\n",
    "## In case of any error while testing locally you should see the appropriate message above"
   ]
  }
 ],
 "metadata": {
  "kernelspec": {
   "display_name": "Python 3 (ipykernel)",
   "language": "python",
   "name": "python3"
  },
  "language_info": {
   "codemirror_mode": {
    "name": "ipython",
    "version": 3
   },
   "file_extension": ".py",
   "mimetype": "text/x-python",
   "name": "python",
   "nbconvert_exporter": "python",
   "pygments_lexer": "ipython3",
   "version": "3.11.6"
  }
 },
 "nbformat": 4,
 "nbformat_minor": 5
}

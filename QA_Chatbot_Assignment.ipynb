{
  "nbformat": 4,
  "nbformat_minor": 0,
  "metadata": {
    "colab": {
      "provenance": []
    },
    "kernelspec": {
      "name": "python3",
      "display_name": "Python 3"
    },
    "language_info": {
      "name": "python"
    }
  },
  "cells": [
    {
      "cell_type": "code",
      "execution_count": 2,
      "metadata": {
        "colab": {
          "base_uri": "https://localhost:8080/"
        },
        "id": "CQTzlq_uQla9",
        "outputId": "781f660d-7714-483e-b2aa-676ebf445a86"
      },
      "outputs": [
        {
          "output_type": "stream",
          "name": "stdout",
          "text": [
            "Collecting PyPDF2\n",
            "  Downloading pypdf2-3.0.1-py3-none-any.whl.metadata (6.8 kB)\n",
            "Downloading pypdf2-3.0.1-py3-none-any.whl (232 kB)\n",
            "\u001b[?25l   \u001b[90m━━━━━━━━━━━━━━━━━━━━━━━━━━━━━━━━━━━━━━━━\u001b[0m \u001b[32m0.0/232.6 kB\u001b[0m \u001b[31m?\u001b[0m eta \u001b[36m-:--:--\u001b[0m\r\u001b[2K   \u001b[91m━━━━━━━━━━━━━━━━━━━━━━━━━━━━━━━━━━━━━━\u001b[0m\u001b[91m╸\u001b[0m\u001b[90m━\u001b[0m \u001b[32m225.3/232.6 kB\u001b[0m \u001b[31m8.2 MB/s\u001b[0m eta \u001b[36m0:00:01\u001b[0m\r\u001b[2K   \u001b[90m━━━━━━━━━━━━━━━━━━━━━━━━━━━━━━━━━━━━━━━━\u001b[0m \u001b[32m232.6/232.6 kB\u001b[0m \u001b[31m5.6 MB/s\u001b[0m eta \u001b[36m0:00:00\u001b[0m\n",
            "\u001b[?25hInstalling collected packages: PyPDF2\n",
            "Successfully installed PyPDF2-3.0.1\n"
          ]
        }
      ],
      "source": [
        "!pip install PyPDF2\n",
        "import requests\n",
        "import PyPDF2"
      ]
    },
    {
      "cell_type": "code",
      "source": [
        "with open(\"NipponIndia-Short-Term-Fund-Jan-2024.pdf\", \"rb\") as file:\n",
        "    reader = PyPDF2.PdfReader(file)\n",
        "    pdf_text = \"\"\n",
        "\n",
        "    # Extract text from each page\n",
        "    for page in reader.pages:\n",
        "        pdf_text += page.extract_text()\n",
        "\n",
        "# Display the first 500 characters\n",
        "print(pdf_text)"
      ],
      "metadata": {
        "colab": {
          "base_uri": "https://localhost:8080/"
        },
        "id": "BsFgL-y2Tvw6",
        "outputId": "fa775b65-1d0b-4f9b-ae57-e5864ccccc1b"
      },
      "execution_count": 4,
      "outputs": [
        {
          "output_type": "stream",
          "name": "stdout",
          "text": [
            "Investment Horizon: 1 - 3 years\n",
            "Contact your Mutual Fund Distributor  |  Call 1860 266 0111#, \n",
            "91-22-6925 9696# (For investors outside India)  |\n",
            "Visit mf.nipponindiaim.com\n",
            "#Charges applicable.Nippon India \n",
            "Short Term Fund\n",
            "(An open  ended  short  term  debt  scheme  investing  in \n",
            "instruments  such  that  the Macaulay  duration  of the \n",
            "portfolio  is between  1 to 3 years . Relatively  High  interest  \n",
            "rate  risk and moderate  Credit  Risk)\n",
            "Mutual Fund investments are subject to market risks, read all scheme related documents carefully.This product is suitable for investors who are seeking*\n",
            "•Income over short term\n",
            "•Investment in debt & money market instruments with \n",
            "portfolio Macaulay Duration between 1 -3 years\n",
            "*Investors should consult their financial advisors \n",
            "if in doubt about  whether the product is suitable \n",
            "for them.Benchmark RiskometerNippon India Short Term \n",
            "FundCRISIL Short Duration Debt \n",
            "B-II Index\n",
            "Investors understand that their principal  \n",
            "will be at Moderate riskBenchmark Riskometer is at \n",
            "Moderate riskProduct label Potential Risk Class\n",
            "About Nippon India Short Term Fund\n",
            "The primary investment objective of the scheme is to generate stable re - \n",
            "turns for investors with a short term investment horizon by investing in \n",
            "Debt & Money Market Instruments.\n",
            "Current Investment Strategy\n",
            "❖The fund  Investments  would  predominantly  be into corporate  bonds,  \n",
            "G-Secs  and money  market  instruments  predominantly  into 1 - 5 years  \n",
            "duration  bucket\n",
            "❖Strategy  is to enhance  returns  through  asset  allocation  and shape  of \n",
            "the yield  curve\n",
            "❖Better  credit  quality  assets  (75-85% AAA) ; 70-100% in upto  3 years  \n",
            "assets  and 0-30% in 3 to 5 years  assets,  15-20% tactical  allocation  to G-\n",
            "Secs/SDLs  based  on absolute  yield  and spread  views\n",
            "❖The fund  would  run moderate  duration  strategy,  which  would  be \n",
            "maintained  in the range  of 1.25 years  to 2.75 years\n",
            "Note : Above  mentioned  current  investment  strategy  is based  on the prevailing  market  \n",
            "conditions  and is subject  to change  within  the limits  of the SID basis  the fund  manager’s  \n",
            "view .\n",
            "Who should invest?\n",
            "❖Investors  seeking  accrual  return  with  the potential  for moderate  capital  \n",
            "gains  along  with  downward  curve  shift  and steepness  would  aid \n",
            "relatively  better  returns\n",
            "❖Investors  seeking  protection  in rising  yields  scenario  due to roll down  \n",
            "benefit  and high  absolute  yields\n",
            "❖Ideal  for Investors  with  moderate  appetite  for volatility  and investment  \n",
            "horizon  of around  1 - 3 years\n",
            "Inception Date\n",
            "Fund Manager#December 18, 2002\n",
            "Sushil Budhia , Vivek Sharma\n",
            "Minimum Application \n",
            "Amount\n",
            "BenchmarkRs. 5,000 & in multiples of R e.1 thereafter\n",
            "CRISIL Short Duration B -II Index\n",
            "Month end AUM as on \n",
            "January 31, 202 4 Rs. 5, 967.53 Crs\n",
            "Plans & Options\n",
            "Exit Load**\n",
            "(** If charged,  the same  shall  \n",
            "be credited  to the scheme  \n",
            "immediately  net of goods  & \n",
            "service  tax, if any)i)Growth  Plan/Direct  Plan  - Growth  Plan :\n",
            "Growth Option\n",
            "ii)a) IDCW  Plan/  Direct  Plan  - IDCW  Plan\n",
            "- IDCW  Option\n",
            "b) IDCW  Plan/  Direct  Plan  - IDCW  Plan  \n",
            "with  the frequency  of Monthly,  \n",
            "Quarterly)\n",
            "Both the above mentioned IDCW \n",
            "plan/ Direct Plan - IDCW Plan offers \n",
            "Payout of IDCW and Reinvestment \n",
            "of IDCW facility.\n",
            "Nil\n",
            "#Kinjal Desai : Dedicated Fund Manager for Overseas Investments\n",
            "Note - IDCW: Income Distribution cum capital withdrawal Options/Plans.\n",
            "Rating Profile as on  January 31, 202 4\n",
            "The emphasis  of the fund  is to invest  predominantly  into high  rated  AAA  \n",
            "and equivalent  securities  which  aims  to generate  a healthy  risk return  \n",
            "ratio .\n",
            "Asset Allocation as on  January 31, 202 4Scheme Attributes as on  January 31, 202 4\n",
            "Weighted Average YTM * 7.85%\n",
            "Weighted Average Maturity 3.47 Years\n",
            "Modified Duration 2.69 Years\n",
            "Portfolio as on  January 31, 202 4\n",
            "Company/Issuer Rating% of \n",
            "Assets\n",
            "Certificate of Deposit 1.56%\n",
            "Axis Bank Limited CRISIL A1+ 1.56%\n",
            "Commercial Paper 0.82%\n",
            "HDFC Bank Limited CRISIL A1+ 0.82%\n",
            "Corporate Bond 57.43%\n",
            "REC Limited CRISIL AAA 6.83%\n",
            "Small Industries Dev Ban k of IndiaICRA \n",
            "AAA/CRISIL \n",
            "AAA5.21%\n",
            "National Bank For Agricu lture and Rural \n",
            "DevelopmentCRISIL \n",
            "AAA/ICRA \n",
            "AAA5.02%\n",
            "Power Finance Corporatio n Limited CRISIL AAA 3.91%\n",
            "Bharti Telecom Limited CRISIL AA+ 3.55%\n",
            "Muthoot Finance Limited CRISIL AA+ 3.35%\n",
            "HDFC Bank Limited CRISIL AAA 3.04%\n",
            "LIC Housing Finance Limi ted CRISIL AAA 2.92%\n",
            "India Grid Trust InvIT F und (India Grid Trust \n",
            "Group)CRISIL AAA 2.65%\n",
            "Torrent Power Limited (T orrent group) CRISIL AA+ 2.65%\n",
            "Mahindra & Mahindra Fina ncial Services \n",
            "LimitedCRISIL AAA 2%\n",
            "PNB Housing Finance Limi ted ICRA AA 1.68%\n",
            "Titan Company Limited CRISIL AAA 1.67%\n",
            "Samvardhana Motherson In ternational \n",
            "LimitedFITCH AAA 1.5%\n",
            "Grasim Industries Limite d CRISIL AAA 1.5%\n",
            "360 One Prime Limited CRISIL AA 1.42%\n",
            "Tata Capital Limited ICRA AAA 1.26%\n",
            "HDB Financial Services L imited CRISIL AAA 1.08%\n",
            "Summit Digitel Infrastru cture Limited \n",
            "(BROOKFIELD GROUP)CRISIL AAA 0.84%\n",
            "Jamnagar Utilities & Pow er Private Limited \n",
            "(Mukesh Ambani Group)CRISIL AAA 0.84%\n",
            "Swarna Tollway Private L imited (MACQUARIE \n",
            "GROUP)CRISIL AAA 0.72%\n",
            "Larsen & Toubro Limited CRISIL AAA 0.59%\n",
            "Tata Capital Housing Fin ance Limited CRISIL AAA 0.57%\n",
            "Power Grid Corporation o f India Limited CRISIL AAA 0.54%\n",
            "Kotak Mahindra Prime Lim ited CRISIL AAA 0.5%\n",
            "The Federal Bank Limited FITCH AA 0.45%\n",
            "Shriram Finance Limited CRISIL AA+ 0.42%\n",
            "NTPC Limited CRISIL AAA 0.41%\n",
            "Bajaj Housing Finance Li mited CRISIL AAA 0.25%\n",
            "NHPC Limited CARE AAA 0.05%\n",
            "India Infradebt Limited (India Infradebt \n",
            "Limited)CRISIL AAA 0.02%\n",
            "Government Bond 23.95%\n",
            "Government of India SOV 23.95%\n",
            "*In case of semi annual YTM, it has been annualisedRisk factors : Trading  volumes  and settlement  periods  may  restrict  liquidity  in equity  and debt  investments . Investment  in Debt  is subject  to price,  credit,  \n",
            "and interest  rate  risk. The NAV  of the Scheme  may  be affected,  inter  alia,  by changes  in the market  conditions,\n",
            "interest  rates,  trading  volumes,  settlement  periods  and transfer  procedures . The NAV  may  also  be subjected  \n",
            "to risk associated  with  investment  in derivatives,  foreign  securities  or script  lending  as may  be permissible  by \n",
            "the Scheme  Information  Document .\n",
            "Disclaimers : The information herein above is meant only for general reading purposes and the views being \n",
            "expressed only constitute opinions and therefore cannot be considered as guidelines, recommendations  or \n",
            "as a professional guide for the readers. Before making any investments, the readers are advised to seek \n",
            "independent professional advice, verify the contents in order to arrive at an informed investment decision. \n",
            "None of the Sponsor, the Investment Manager, the Trustee, their respective directors, employees, associates or \n",
            "representatives shall be liable in any way for any direct, indirect, special, incidental, consequential, punitive or \n",
            "exemplary damages, including on account of lost profits arising from the information contained in this \n",
            "material.\n",
            "Mutual Fund Investments are subject to market risks, read all scheme related documents carefully.State Government Securit ies SOV 7.81%\n",
            "Treasury Bill 0.33%\n",
            "Government of India SOV 0.33%\n",
            "Corporate Debt Market Deve lopment Fund 0.26%\n",
            "Corporate Debt Market Deve lopment Fund \n",
            "Class A20.26%\n",
            "PTC 2.17%\n",
            "Sansar Trust (PTC of poo ls from Shriram \n",
            "Transport Finance Corporation)ICRA AAA(SO) 1.55%\n",
            "First Business Receivabl es Trust (Mukesh \n",
            "Ambani Group (PTC backed by receivables \n",
            "from Reliance group entities))CRISIL \n",
            "AAA(SO)/CRI SI\n",
            "L AAA(SO)0.61%\n",
            "Cash & Other Receivables 5.68%\n",
            "Grand Total 100%\n"
          ]
        }
      ]
    },
    {
      "cell_type": "code",
      "source": [
        "user_prompt='Who should invest in this mutual fund?'"
      ],
      "metadata": {
        "id": "EfEtynrQUwR6"
      },
      "execution_count": 5,
      "outputs": []
    },
    {
      "cell_type": "code",
      "source": [
        "full_prompt=f'''Answer the following question about the mutual fund using context given below:\n",
        "Question:{user_prompt}\n",
        "Context:{pdf_text}'''"
      ],
      "metadata": {
        "id": "9SX38TIaXQiG"
      },
      "execution_count": 6,
      "outputs": []
    },
    {
      "cell_type": "code",
      "source": [
        "messages=[{'role':'user','content':full_prompt}]"
      ],
      "metadata": {
        "id": "deqKNUedXjpA"
      },
      "execution_count": 7,
      "outputs": []
    },
    {
      "cell_type": "code",
      "source": [
        "import openai\n",
        "from google.colab import userdata\n",
        "OPENAI_API_KEY = userdata.get('OPENAI_KEY')\n",
        "openai.api_key = OPENAI_API_KEY"
      ],
      "metadata": {
        "id": "0v4I2crgXuI3"
      },
      "execution_count": 8,
      "outputs": []
    },
    {
      "cell_type": "code",
      "source": [
        "def get_response(messages,model=\"gpt-3.5-turbo\"):\n",
        "\n",
        "    response = openai.chat.completions.create(\n",
        "        model=model,\n",
        "        messages=messages)\n",
        "\n",
        "    return response.choices[0].message.content"
      ],
      "metadata": {
        "id": "9bpwERXUYEX7"
      },
      "execution_count": 9,
      "outputs": []
    },
    {
      "cell_type": "code",
      "source": [
        "print(get_response(messages))"
      ],
      "metadata": {
        "colab": {
          "base_uri": "https://localhost:8080/"
        },
        "id": "KcjxTiPZYMQm",
        "outputId": "de6146d1-a53a-4ab7-9533-0ea70bf5ab19"
      },
      "execution_count": 10,
      "outputs": [
        {
          "output_type": "stream",
          "name": "stdout",
          "text": [
            "Investors who are seeking accrual return with the potential for moderate capital gains, have a moderate appetite for volatility, and have an investment horizon of around 1 - 3 years should consider investing in this mutual fund.\n"
          ]
        }
      ]
    },
    {
      "cell_type": "code",
      "source": [],
      "metadata": {
        "id": "XUZ08ZNPYVTy"
      },
      "execution_count": null,
      "outputs": []
    }
  ]
}